{
 "cells": [
  {
   "cell_type": "markdown",
   "metadata": {},
   "source": [
    "# Jumping into numpy\n",
    "\n",
    "**Bernease Herman**  \n",
    "**DSSG Summer 2015**  \n",
    "**July 6, 2015**"
   ]
  },
  {
   "cell_type": "markdown",
   "metadata": {},
   "source": [
    "### Why numpy over base Python?"
   ]
  },
  {
   "cell_type": "code",
   "execution_count": null,
   "metadata": {
    "collapsed": false,
    "scrolled": true
   },
   "outputs": [],
   "source": [
    "# Create a function to multiply by 3 (or any scalar)\n",
    "def multiply_by_scalar(my_list, my_scalar):\n",
    "    for i, val in enumerate(my_list):\n",
    "        my_list[i] = val * my_scalar\n",
    "    return my_list\n",
    "\n",
    "my_list = range(1, 6)\n",
    "multiply_by_scalar(my_list, 3)"
   ]
  },
  {
   "cell_type": "code",
   "execution_count": null,
   "metadata": {
    "collapsed": false
   },
   "outputs": [],
   "source": [
    "import numpy as np\n",
    "\n",
    "# Do the same thing using numpy\n",
    "my_array = np.arange(1, 6)\n",
    "my_array * 3"
   ]
  },
  {
   "cell_type": "code",
   "execution_count": null,
   "metadata": {
    "collapsed": false
   },
   "outputs": [],
   "source": [
    "my_longer_list = range(1000000)\n",
    "%timeit multiply_by_scalar(my_longer_list, 4)"
   ]
  },
  {
   "cell_type": "code",
   "execution_count": null,
   "metadata": {
    "collapsed": false
   },
   "outputs": [],
   "source": [
    "my_longer_array = np.arange(1000000)\n",
    "%timeit my_longer_array * 4"
   ]
  },
  {
   "cell_type": "markdown",
   "metadata": {},
   "source": [
    "## Arrays"
   ]
  },
  {
   "cell_type": "markdown",
   "metadata": {},
   "source": [
    "### Creating arrays"
   ]
  },
  {
   "cell_type": "code",
   "execution_count": null,
   "metadata": {
    "collapsed": false
   },
   "outputs": [],
   "source": [
    "# Creating array from Python list\n",
    "creation_list = [4, 5, 9, 1]\n",
    "np.array(creation_list)"
   ]
  },
  {
   "cell_type": "code",
   "execution_count": null,
   "metadata": {
    "collapsed": false
   },
   "outputs": [],
   "source": [
    "# Creating array with elements from 0 to 10\n",
    "np.arange(10)"
   ]
  },
  {
   "cell_type": "code",
   "execution_count": null,
   "metadata": {
    "collapsed": false
   },
   "outputs": [],
   "source": [
    "# Creating array that counts by fives from 5 to 25\n",
    "np.arange(5, 50, 5)"
   ]
  },
  {
   "cell_type": "code",
   "execution_count": null,
   "metadata": {
    "collapsed": false
   },
   "outputs": [],
   "source": [
    "# Creating array with 100 steps from 0 to 1\n",
    "np.linspace(0, 1, 100)\n",
    "\n",
    "# Notice that both bounds are inclusive, unlike np.arange()"
   ]
  },
  {
   "cell_type": "code",
   "execution_count": null,
   "metadata": {
    "collapsed": false
   },
   "outputs": [],
   "source": [
    "# Creating array of zeros with 7 elements\n",
    "np.zeros(7)"
   ]
  },
  {
   "cell_type": "code",
   "execution_count": null,
   "metadata": {
    "collapsed": false
   },
   "outputs": [],
   "source": [
    "# Creating array of ones with 3 elements\n",
    "np.ones(3)"
   ]
  },
  {
   "cell_type": "code",
   "execution_count": null,
   "metadata": {
    "collapsed": false
   },
   "outputs": [],
   "source": [
    "# How do we create array of threes with 5 elements?\n",
    "# Surely np.threes() won't work.\n",
    "np.zeros(5) + 3"
   ]
  },
  {
   "cell_type": "code",
   "execution_count": null,
   "metadata": {
    "collapsed": false
   },
   "outputs": [],
   "source": [
    "# Notice the dots following each number?\n",
    "# These indicate that they are all some sort of floating point number.\n",
    "\n",
    "# What if I wanted an integer?\n",
    "np.zeros(5).astype(np.int64) + 3\n",
    "#np.zeros(5, dtype=np.int8) + 3"
   ]
  },
  {
   "cell_type": "code",
   "execution_count": null,
   "metadata": {
    "collapsed": false
   },
   "outputs": [],
   "source": [
    "# There's a dict that contains numpy's scalar types\n",
    "np.sctypes"
   ]
  },
  {
   "cell_type": "markdown",
   "metadata": {},
   "source": [
    "### Reshaping arrays"
   ]
  },
  {
   "cell_type": "code",
   "execution_count": null,
   "metadata": {
    "collapsed": false
   },
   "outputs": [],
   "source": [
    "# Note that numpy arrays can be multidimensional\n",
    "arr2d = np.array([[1, 2], [3, 4]])\n",
    "\n",
    "# Same result if reshape array\n",
    "arr1d = np.arange(1, 5)\n",
    "arr1d.reshape(2, 2)\n",
    "# np.reshape(arr1d, (2, 2))"
   ]
  },
  {
   "cell_type": "code",
   "execution_count": null,
   "metadata": {
    "collapsed": false
   },
   "outputs": [],
   "source": [
    "# Inversely, can flatten\n",
    "arr2d.ravel()"
   ]
  },
  {
   "cell_type": "markdown",
   "metadata": {},
   "source": [
    "### Indexing and slicing in numpy"
   ]
  },
  {
   "cell_type": "code",
   "execution_count": null,
   "metadata": {
    "collapsed": true
   },
   "outputs": [],
   "source": [
    "# One dimensional indexing and slicing\n",
    "my_arr = np.arange(25)"
   ]
  },
  {
   "cell_type": "code",
   "execution_count": null,
   "metadata": {
    "collapsed": false
   },
   "outputs": [],
   "source": [
    "my_arr[:10]"
   ]
  },
  {
   "cell_type": "code",
   "execution_count": null,
   "metadata": {
    "collapsed": false
   },
   "outputs": [],
   "source": [
    "my_arr[-7:]"
   ]
  },
  {
   "cell_type": "code",
   "execution_count": null,
   "metadata": {
    "collapsed": false
   },
   "outputs": [],
   "source": [
    "my_arr[10:20]"
   ]
  },
  {
   "cell_type": "code",
   "execution_count": null,
   "metadata": {
    "collapsed": false
   },
   "outputs": [],
   "source": [
    "# Two dimensional indexing and slicing\n",
    "\n",
    "# Index using Python (non-pandas) multidimensional list\n",
    "my_list = [[1, 2, 3, 4, 5], [2, 4, 6, 8, 10], [3, 6, 9, 12, 15]]\n",
    "my_list[1][2]"
   ]
  },
  {
   "cell_type": "code",
   "execution_count": null,
   "metadata": {
    "collapsed": false
   },
   "outputs": [],
   "source": [
    "my_arr = np.array(my_list)\n",
    "my_arr[1, 2]"
   ]
  },
  {
   "cell_type": "code",
   "execution_count": null,
   "metadata": {
    "collapsed": false
   },
   "outputs": [],
   "source": [
    "my_arr[1:3,]"
   ]
  },
  {
   "cell_type": "code",
   "execution_count": null,
   "metadata": {
    "collapsed": false
   },
   "outputs": [],
   "source": [
    "my_arr[0:1, -2:]"
   ]
  },
  {
   "cell_type": "code",
   "execution_count": null,
   "metadata": {
    "collapsed": false
   },
   "outputs": [],
   "source": [
    "my_arr[:]"
   ]
  },
  {
   "cell_type": "code",
   "execution_count": null,
   "metadata": {
    "collapsed": false
   },
   "outputs": [],
   "source": [
    "index = np.where(my_arr % 2)\n",
    "my_arr[index]"
   ]
  },
  {
   "cell_type": "code",
   "execution_count": null,
   "metadata": {
    "collapsed": false
   },
   "outputs": [],
   "source": [
    "my_arr[index] = 0\n",
    "my_arr"
   ]
  },
  {
   "cell_type": "markdown",
   "metadata": {},
   "source": [
    "## Matrix\n",
    "These better match what we think of as a matrix in mathematics. For example, multiplication operator generates matrix multiplication and not element-wise multiplication. They are only 1D or 2D."
   ]
  },
  {
   "cell_type": "code",
   "execution_count": null,
   "metadata": {
    "collapsed": false
   },
   "outputs": [],
   "source": [
    "# Create 2D array from above\n",
    "arr2d = np.array([[1, 2], [3, 4]])\n",
    "\n",
    "# Create matrix similar to arr2d\n",
    "mx2d = np.matrix([[1, 2], [3, 4]])\n",
    "# np.matrix(arr2d)"
   ]
  },
  {
   "cell_type": "code",
   "execution_count": null,
   "metadata": {
    "collapsed": false
   },
   "outputs": [],
   "source": [
    "# Let's multiply both array and matrix form by another\n",
    "multArr = np.arange(5, 9).reshape(2, 2)\n",
    "multMx = np.matrix(multArr)\n",
    "\n",
    "print \"Array:\\n\", arr2d * multArr, \"\\n\"\n",
    "print \"Matrix:\\n\", mx2d * multMx"
   ]
  },
  {
   "cell_type": "code",
   "execution_count": null,
   "metadata": {
    "collapsed": false
   },
   "outputs": [],
   "source": [
    "# 3D numpy array work\n",
    "arr3d = np.zeros((3, 3, 3))"
   ]
  },
  {
   "cell_type": "code",
   "execution_count": null,
   "metadata": {
    "collapsed": false
   },
   "outputs": [],
   "source": [
    "# 3D numpy matrices error\n",
    "mx3d = np.matrix(arr3d)"
   ]
  },
  {
   "cell_type": "markdown",
   "metadata": {},
   "source": [
    "# Jumping into pandas"
   ]
  },
  {
   "cell_type": "code",
   "execution_count": null,
   "metadata": {
    "collapsed": true
   },
   "outputs": [],
   "source": [
    "import pandas as pd"
   ]
  },
  {
   "cell_type": "markdown",
   "metadata": {},
   "source": [
    "## Series\n",
    "Series in pandas are one dimensional dict-like objects that provide us with the operations gained from numpy. Like Python dicts, they allow indexing using any type."
   ]
  },
  {
   "cell_type": "markdown",
   "metadata": {},
   "source": [
    "### Constructing a series"
   ]
  },
  {
   "cell_type": "code",
   "execution_count": null,
   "metadata": {
    "collapsed": false
   },
   "outputs": [],
   "source": [
    "# Creating series of 1000 elements with random numbers\n",
    "my_series = pd.Series(np.random.randn(1000))\n",
    "my_series"
   ]
  },
  {
   "cell_type": "code",
   "execution_count": null,
   "metadata": {
    "collapsed": false
   },
   "outputs": [],
   "source": [
    "# Creating series of mixed type using list\n",
    "other_series = pd.Series([\"a\", 7, (1, 2, 3), {\"cat\": \"meow\", \"dog\": \"bark\"}])\n",
    "other_series"
   ]
  },
  {
   "cell_type": "code",
   "execution_count": null,
   "metadata": {
    "collapsed": false
   },
   "outputs": [],
   "source": [
    "# Creating an employee time card series with hours worked with day index\n",
    "timeCard1 = pd.Series([8, 8, 8, 8, 8], index=[\"Monday\", \"Tuesday\", \"Wednesday\", \"Thursday\", \"Friday\"])\n",
    "timeCard1"
   ]
  },
  {
   "cell_type": "markdown",
   "metadata": {},
   "source": [
    "### Indexing a series"
   ]
  },
  {
   "cell_type": "code",
   "execution_count": null,
   "metadata": {
    "collapsed": false
   },
   "outputs": [],
   "source": [
    "# Notice you can still access using 0 .. n-1 index\n",
    "timeCard1[2]"
   ]
  },
  {
   "cell_type": "code",
   "execution_count": null,
   "metadata": {
    "collapsed": false
   },
   "outputs": [],
   "source": [
    "# But you can also use the index you've specified\n",
    "timeCard1[\"Wednesday\"]"
   ]
  },
  {
   "cell_type": "code",
   "execution_count": null,
   "metadata": {
    "collapsed": false
   },
   "outputs": [],
   "source": [
    "# Check if day is in the series using idiomatic Python\n",
    "print \"Friday\" in timeCard1\n",
    "print \"Sunday\" in timeCard1"
   ]
  },
  {
   "cell_type": "code",
   "execution_count": null,
   "metadata": {
    "collapsed": false
   },
   "outputs": [],
   "source": [
    "# Create another series to hold overtime pay multiplier\n",
    "WEEKDAYS = [\"Sunday\", \"Monday\", \"Tuesday\", \"Wednesday\", \"Thursday\", \"Friday\", \"Saturday\"]\n",
    "overtimeMultiplier = pd.Series([1.5, 1, 1, 1, 1, 1, 1.5], index=WEEKDAYS)\n",
    "overtimeMultiplier"
   ]
  },
  {
   "cell_type": "markdown",
   "metadata": {},
   "source": [
    "### Operations on series"
   ]
  },
  {
   "cell_type": "code",
   "execution_count": null,
   "metadata": {
    "collapsed": false
   },
   "outputs": [],
   "source": [
    "# Hourly wage set to $8/hr\n",
    "hourlyWage = 8.0\n",
    "\n",
    "weekGrossPay1 = timeCard1 * overtimeMultiplier * hourlyWage\n",
    "weekGrossPay1"
   ]
  },
  {
   "cell_type": "code",
   "execution_count": null,
   "metadata": {
    "collapsed": false
   },
   "outputs": [],
   "source": [
    "# Let's get rid of those NaNs\n",
    "weekGrossPay1.fillna(0)"
   ]
  },
  {
   "cell_type": "code",
   "execution_count": null,
   "metadata": {
    "collapsed": false
   },
   "outputs": [],
   "source": [
    "# Let's find the total gross pay for Employee #1\n",
    "weekGrossPay1.sum()"
   ]
  },
  {
   "cell_type": "markdown",
   "metadata": {},
   "source": [
    "## Data frames\n",
    "Think of pandas data frames as feature-enhanced versions of those in R or record arrays in numpy. These can be considered the combination of multiple Series."
   ]
  },
  {
   "cell_type": "markdown",
   "metadata": {},
   "source": [
    "### Constructing a data frame"
   ]
  },
  {
   "cell_type": "code",
   "execution_count": null,
   "metadata": {
    "collapsed": false
   },
   "outputs": [],
   "source": [
    "# Let's create a few more employee time cards\n",
    "timeCard2 = pd.Series([0, 8, 8, 8, 0, 0, 4], index=WEEKDAYS)\n",
    "timeCard3 = pd.Series([10, 10, 10, 10], index=[\"Monday\", \"Tuesday\", \"Wednesday\", \"Thursday\"])\n",
    "\n",
    "# Let's combine to create a data frame\n",
    "allTimeCards = pd.DataFrame({\"Barb\": timeCard1,\n",
    "                             \"Susan\": timeCard2,\n",
    "                             \"Jack\": timeCard3})\n",
    "allTimeCards"
   ]
  },
  {
   "cell_type": "code",
   "execution_count": null,
   "metadata": {
    "collapsed": false
   },
   "outputs": [],
   "source": [
    "% cd /Users/bernease/talks/2015-07-06-pandas-numpy/"
   ]
  },
  {
   "cell_type": "code",
   "execution_count": null,
   "metadata": {
    "collapsed": false
   },
   "outputs": [],
   "source": [
    "!head -n 5 rivera.csv"
   ]
  },
  {
   "cell_type": "code",
   "execution_count": null,
   "metadata": {
    "collapsed": false
   },
   "outputs": [],
   "source": [
    "pd.read_csv(\"rivera.csv\")"
   ]
  },
  {
   "cell_type": "markdown",
   "metadata": {},
   "source": [
    "### Summarize or view data frame"
   ]
  },
  {
   "cell_type": "code",
   "execution_count": null,
   "metadata": {
    "collapsed": false
   },
   "outputs": [],
   "source": [
    "# We can look at the dtypes of each column\n",
    "allTimeCards.dtypes"
   ]
  },
  {
   "cell_type": "code",
   "execution_count": null,
   "metadata": {
    "collapsed": false
   },
   "outputs": [],
   "source": [
    "allTimeCards.describe()"
   ]
  },
  {
   "cell_type": "code",
   "execution_count": null,
   "metadata": {
    "collapsed": false
   },
   "outputs": [],
   "source": [
    "print \"Head:\\n\", allTimeCards.head(), \"\\n\"\n",
    "print \"Tail:\\n\", allTimeCards.tail()"
   ]
  },
  {
   "cell_type": "markdown",
   "metadata": {},
   "source": [
    "### Indexing and slicing"
   ]
  },
  {
   "cell_type": "code",
   "execution_count": null,
   "metadata": {
    "collapsed": false
   },
   "outputs": [],
   "source": [
    "# Index for using 0 .. n-1 index for Saturday\n",
    "allTimeCards.ix[2]"
   ]
  },
  {
   "cell_type": "code",
   "execution_count": null,
   "metadata": {
    "collapsed": false
   },
   "outputs": [],
   "source": [
    "# Index for Susan's hours on Friday\n",
    "allTimeCards.ix[0, 2]"
   ]
  },
  {
   "cell_type": "code",
   "execution_count": null,
   "metadata": {
    "collapsed": false
   },
   "outputs": [],
   "source": [
    "# Of course, you can do the same using the names given\n",
    "allTimeCards[\"Susan\"][\"Friday\"]"
   ]
  },
  {
   "cell_type": "markdown",
   "metadata": {},
   "source": [
    "## Resources to continue learning\n",
    "### Greg Reda's blog\n",
    "- http://www.gregreda.com/2013/10/26/intro-to-pandas-data-structures/\n",
    "- http://www.gregreda.com/2013/10/26/working-with-pandas-dataframes/\n",
    "\n",
    "### numpy and scipy book on DSS bookshelf"
   ]
  }
 ],
 "metadata": {
  "kernelspec": {
   "display_name": "Python 2",
   "language": "python",
   "name": "python2"
  },
  "language_info": {
   "codemirror_mode": {
    "name": "ipython",
    "version": 2
   },
   "file_extension": ".py",
   "mimetype": "text/x-python",
   "name": "python",
   "nbconvert_exporter": "python",
   "pygments_lexer": "ipython2",
   "version": "2.7.9"
  }
 },
 "nbformat": 4,
 "nbformat_minor": 0
}
