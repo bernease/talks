{
 "cells": [
  {
   "cell_type": "markdown",
   "metadata": {
    "collapsed": true
   },
   "source": [
    "# Interviews: Sometimes you can't just write sklearn.svm().SVC()\n",
    "**PyLadies Seattle**    \n",
    "**June 25, 2015**\n",
    "\n",
    "**Bernease Herman**  \n",
    "**Data Scientist, UW eScience Institute**"
   ]
  },
  {
   "cell_type": "markdown",
   "metadata": {},
   "source": [
    "## k-Nearest Neighbors\n",
    "\n",
    "The k-Nearest Neighbors algorithm (kNN) is a simple, easy-to-implement algorithm most commonly used for classification. Because it's easy to understand, kNN is a popular choice for whiteboard coding exercises.\n",
    "\n",
    "When used for classification, the algorithm takes in a set of training data, one or more objects we'd like to classify, and the number of neighbors to use in classification *k*. The output is the class membership of the object(s)."
   ]
  },
  {
   "cell_type": "code",
   "execution_count": 6,
   "metadata": {
    "collapsed": false
   },
   "outputs": [
    {
     "data": {
      "text/html": [
       "\n",
       "        <iframe\n",
       "            width=\"400\"\n",
       "            height=\"300\"\n",
       "            src=\"https://www.youtube.com/embed/mpmf1T6-8wM\"\n",
       "            frameborder=\"0\"\n",
       "            allowfullscreen\n",
       "        ></iframe>\n",
       "        "
      ],
      "text/plain": [
       "<IPython.lib.display.YouTubeVideo at 0x103e98150>"
      ]
     },
     "execution_count": 6,
     "metadata": {},
     "output_type": "execute_result"
    }
   ],
   "source": [
    "# Run this code to display a short YouTube video on kNN\n",
    "from IPython.display import YouTubeVideo\n",
    "YouTubeVideo(\"mpmf1T6-8wM\")"
   ]
  },
  {
   "cell_type": "markdown",
   "metadata": {},
   "source": [
    "### Turning the tables: grilling your interviewer\n",
    "\n",
    "You've just heard the magic words: \"Implement a k-Nearest Neighbor algorithm on the whiteboard, please.\" Don't jump straight into coding just yet. There are loose ends to be tied.\n",
    "\n",
    "- *\"What is the format of the input?\"*\n",
    "- *\"What is the format of the output?*\n",
    "- *\"Is this kNN for classification? Regression?\"*\n",
    "- *\"Is this for a fixed or variable number of attributes?\"\n",
    "- *\"Is it okay to use X distance measure?\" or \"What measure of distance would you like me to use?\"*\n",
    "- *\"Must I write code to measure accuracy?\"*\n",
    "- *\"If the units of measure vary greatly, should I normalize the attributes?\"*\n",
    "\n",
    "You don't have to ask all these, but make sure you ask one or more clarifying questions. Software developers and data scientists always have constraints and limitations they must navigate. Asking upfront shows that you can work around these kinds of things.\n",
    "\n",
    "But feel free to announce assumptions you make as you code. The interviewer should correct them if they want to steer you in a different direction.\n",
    "\n",
    "### Inputs and outputs\n",
    "\n",
    "Inputs and outputs to your function or program are the only two **necessary** loose ends from the previous section. Often, knowing these two will tell you a lot about what the interviewer is looking for.\n",
    "\n",
    "For example, there are different valid input/output combinations for classification kNN. Examples:\n",
    "\n",
    "- **Input**: `kNNC(trainingData, testPoint, k)`  \n",
    "  **Output**: `<classification of testPoint>`\n",
    "- **Input**: `kNNC(trainingData, testData, k)`  \n",
    "  **Output**: `<list/dict of testPoints and classifications>`\n",
    "- Data points can take different forms: `((x,y,z), <classification>)`, `[(x,y,z), <classification>]`, data points could be a formal OOP class, etc.\n",
    "\n",
    "Our solution will assume a point-classification pair is of type tuple, where the element [0] is a tuple of features and element [1] is the value (or classification). It will take in a list of these pairs as training data, along with a list of these pairs as test data, and an integer *k*.\n",
    "\n",
    "Below is an example test and training dataset."
   ]
  },
  {
   "cell_type": "code",
   "execution_count": 35,
   "metadata": {
    "collapsed": false
   },
   "outputs": [],
   "source": [
    "test = []\n",
    "pair1 = ((1,2,3), \"x\")\n",
    "pair2 = ((4,5,6), \"o\")\n",
    "pair3 = ((7,8,9), \"x\")\n",
    "test.append(pair1)\n",
    "test.append(pair2)\n",
    "test.append(pair3)\n",
    "\n",
    "training = []\n",
    "point1 = (2,4,6)\n",
    "point2 = (3,6,9)\n",
    "training.append(point1)\n",
    "training.append(point2)"
   ]
  },
  {
   "cell_type": "markdown",
   "metadata": {},
   "source": [
    "### Test cases first\n",
    "\n",
    "I recommend coming up with a few test cases first. With your knowledge of kNN, you should be able to determine the correct result for trivial training and test datasets.\n",
    "\n",
    "Write them in a table on the whiteboard:\n",
    "\n",
    "|training|test|k|result|\n",
    "|---|---|---|---|\n",
    "| | | | |\n",
    "\n",
    "We will use this to manually debug our code when finished."
   ]
  },
  {
   "cell_type": "markdown",
   "metadata": {},
   "source": [
    "### And now we write\n",
    "\n",
    "Now we have enough information to start implementing the function, which we will call `kNNClassification`."
   ]
  },
  {
   "cell_type": "code",
   "execution_count": 59,
   "metadata": {
    "collapsed": false
   },
   "outputs": [
    {
     "name": "stdout",
     "output_type": "stream",
     "text": [
      "[((1, 1, 1), 'x')]\n",
      "[((0, 0, 0), 'x'), ((3, 3, 3), 'x')]\n"
     ]
    }
   ],
   "source": [
    "def kNNClassification(training, test, k):\n",
    "    \n",
    "    result = []\n",
    "    # Loop through all points in test dataset\n",
    "    for test_pt in test:\n",
    "        neighbors = training # getNeighbors(training, test_pt, k)\n",
    "        \n",
    "        # Calculate and assign the majority vote\n",
    "        values = {}\n",
    "        for neighbor_pt in neighbors:\n",
    "            if neighbor_pt[1] in values.keys():\n",
    "                values[neighbor_pt[1]] += 1\n",
    "            else:\n",
    "                values[neighbor_pt[1]] = 1\n",
    "        \n",
    "        # sort dictionary and find top class\n",
    "        sorted_values = sorted(values.items(), key=lambda (k,v): (v,k), reverse=True)\n",
    "        result.append((test_pt, sorted_values[0][0]))\n",
    "\n",
    "    return result\n",
    "        \n",
    "print kNNClassification(test, [(1,1,1)], 2)\n",
    "print kNNClassification(test, [(0,0,0), (3,3,3)], 1)"
   ]
  },
  {
   "cell_type": "code",
   "execution_count": null,
   "metadata": {
    "collapsed": true
   },
   "outputs": [],
   "source": [
    "def getNeighbors(training, test_pt, k):\n",
    "    "
   ]
  },
  {
   "cell_type": "markdown",
   "metadata": {},
   "source": [
    "### Writing `euclideanDistance` function\n",
    "\n",
    "Now let's write a function that calculates the distance between two points. A common method is the [Euclidean distance](https://en.wikipedia.org/wiki/Euclidean_distance), which finds the straight line distance between two points *p* and *q*.\n",
    "\n",
    "It is given by the following formula:\n",
    "$$ d(p,q) = \\sqrt{(p_{1}-q_{1})^{2} + (p_{2}-q_{2})^{2} + ... + (p_{n}-q_{n})^{2}}$$\n",
    "\n",
    "In non-equation speak, we will take `p[0] - q[0]` to the second power, then add it to `p[1] - q[1]` to the second power, and so on for each dimension. We then add these up, the take the square root of the whole thing.\n",
    "\n",
    "I've added a call to our function, `euclideanDistance` to confirm that the code works. Without it, we'd have no idea if the code runs. Let's try it below:"
   ]
  },
  {
   "cell_type": "code",
   "execution_count": 5,
   "metadata": {
    "collapsed": false
   },
   "outputs": [
    {
     "ename": "NameError",
     "evalue": "global name 'sqrt' is not defined",
     "output_type": "error",
     "traceback": [
      "\u001b[0;31m---------------------------------------------------------------------------\u001b[0m",
      "\u001b[0;31mNameError\u001b[0m                                 Traceback (most recent call last)",
      "\u001b[0;32m<ipython-input-5-b77edabf4beb>\u001b[0m in \u001b[0;36m<module>\u001b[0;34m()\u001b[0m\n\u001b[1;32m      5\u001b[0m     \u001b[0;32mreturn\u001b[0m \u001b[0msqrt\u001b[0m\u001b[0;34m(\u001b[0m\u001b[0mdistance\u001b[0m\u001b[0;34m)\u001b[0m\u001b[0;34m\u001b[0m\u001b[0m\n\u001b[1;32m      6\u001b[0m \u001b[0;34m\u001b[0m\u001b[0m\n\u001b[0;32m----> 7\u001b[0;31m \u001b[0meuclideanDistance\u001b[0m\u001b[0;34m(\u001b[0m\u001b[0;34m(\u001b[0m\u001b[0;36m0\u001b[0m\u001b[0;34m,\u001b[0m\u001b[0;36m0\u001b[0m\u001b[0;34m,\u001b[0m\u001b[0;36m0\u001b[0m\u001b[0;34m)\u001b[0m\u001b[0;34m,\u001b[0m\u001b[0;34m(\u001b[0m\u001b[0;36m1\u001b[0m\u001b[0;34m,\u001b[0m\u001b[0;36m1\u001b[0m\u001b[0;34m,\u001b[0m\u001b[0;36m1\u001b[0m\u001b[0;34m)\u001b[0m\u001b[0;34m)\u001b[0m\u001b[0;34m\u001b[0m\u001b[0m\n\u001b[0m",
      "\u001b[0;32m<ipython-input-5-b77edabf4beb>\u001b[0m in \u001b[0;36meuclideanDistance\u001b[0;34m(point1, point2)\u001b[0m\n\u001b[1;32m      3\u001b[0m     \u001b[0;32mfor\u001b[0m \u001b[0mx\u001b[0m \u001b[0;32min\u001b[0m \u001b[0mrange\u001b[0m\u001b[0;34m(\u001b[0m\u001b[0mlen\u001b[0m\u001b[0;34m(\u001b[0m\u001b[0mpoint1\u001b[0m\u001b[0;34m)\u001b[0m\u001b[0;34m)\u001b[0m\u001b[0;34m:\u001b[0m\u001b[0;34m\u001b[0m\u001b[0m\n\u001b[1;32m      4\u001b[0m         \u001b[0mdistance\u001b[0m \u001b[0;34m+=\u001b[0m \u001b[0mpow\u001b[0m\u001b[0;34m(\u001b[0m\u001b[0;34m(\u001b[0m\u001b[0mpoint1\u001b[0m\u001b[0;34m[\u001b[0m\u001b[0mx\u001b[0m\u001b[0;34m]\u001b[0m \u001b[0;34m-\u001b[0m \u001b[0mpoint2\u001b[0m\u001b[0;34m[\u001b[0m\u001b[0mx\u001b[0m\u001b[0;34m]\u001b[0m\u001b[0;34m)\u001b[0m\u001b[0;34m,\u001b[0m \u001b[0;36m2\u001b[0m\u001b[0;34m)\u001b[0m\u001b[0;34m\u001b[0m\u001b[0m\n\u001b[0;32m----> 5\u001b[0;31m     \u001b[0;32mreturn\u001b[0m \u001b[0msqrt\u001b[0m\u001b[0;34m(\u001b[0m\u001b[0mdistance\u001b[0m\u001b[0;34m)\u001b[0m\u001b[0;34m\u001b[0m\u001b[0m\n\u001b[0m\u001b[1;32m      6\u001b[0m \u001b[0;34m\u001b[0m\u001b[0m\n\u001b[1;32m      7\u001b[0m \u001b[0meuclideanDistance\u001b[0m\u001b[0;34m(\u001b[0m\u001b[0;34m(\u001b[0m\u001b[0;36m0\u001b[0m\u001b[0;34m,\u001b[0m\u001b[0;36m0\u001b[0m\u001b[0;34m,\u001b[0m\u001b[0;36m0\u001b[0m\u001b[0;34m)\u001b[0m\u001b[0;34m,\u001b[0m\u001b[0;34m(\u001b[0m\u001b[0;36m1\u001b[0m\u001b[0;34m,\u001b[0m\u001b[0;36m1\u001b[0m\u001b[0;34m,\u001b[0m\u001b[0;36m1\u001b[0m\u001b[0;34m)\u001b[0m\u001b[0;34m)\u001b[0m\u001b[0;34m\u001b[0m\u001b[0m\n",
      "\u001b[0;31mNameError\u001b[0m: global name 'sqrt' is not defined"
     ]
    }
   ],
   "source": [
    "def euclideanDistance(point1, point2):\n",
    "    distance = 0\n",
    "    for x in range(len(point1)):\n",
    "        distance += pow((point1[x] - point2[x]), 2)\n",
    "    return sqrt(distance)\n",
    "\n",
    "euclideanDistance((0,0,0),(1,1,1))"
   ]
  },
  {
   "cell_type": "markdown",
   "metadata": {},
   "source": [
    "In IPython, we can run the cell and discover that this function gives a NameError. It tells us `sqrt` is not defined. This is because `sqrt` belongs to the `math` module, which we never imported.\n",
    "\n",
    "#### Hard to catch mistakes\n",
    "\n",
    "We wouldn't be so lucky if coding on a whiteboard, however. But that's okay! Most interviewers won't mark you down much for small syntax errors or tiny mistakes like this.\n",
    "\n",
    "Bugs like this are hard to find even when we manually debug the code later. If you *do* find a bug, bring it to the interviewer's attention and fix it. You want the improved code reflected in their notes.\n",
    "\n",
    "We've done that below:"
   ]
  },
  {
   "cell_type": "code",
   "execution_count": 8,
   "metadata": {
    "collapsed": true
   },
   "outputs": [],
   "source": [
    "import math\n",
    "\n",
    "def euclideanDistance(point1, point2):\n",
    "    distance = 0\n",
    "    for x in range(len(point1)):\n",
    "        distance += pow((point1[x] - point2[x]), 2)\n",
    "    return math.sqrt(distance)"
   ]
  },
  {
   "cell_type": "markdown",
   "metadata": {},
   "source": [
    "This new `euclideanDistance` function feels about right. It should now take in two points and print the Euclidean distance between them.\n",
    "\n",
    "#### Debugging `euclideanDistance` function\n",
    "\n",
    "We will need to debug this on the whiteboard. In an interview setting, you may want to save this step until the end to manage time. But we'll do it now.\n",
    "\n",
    "We want to write a small table of inputs and the expected outputs. We'll then debug the code by hand. Let's try just a few:\n",
    "\n",
    "||point1|point2|expected output|\n",
    "|---:|:---:|:---:|:---:|\n",
    "|a.|(0,0)|(0,1)|1|\n",
    "|b.|(3,4)|(0,0)|5|\n",
    "|c.|(0,0,0)|(1,1,1)|$$\\sqrt{3}$$|\n",
    "\n",
    "a. **`euclideanDistance(input1=(0,0), input2=(0,0))`**\n",
    "1. `output1 = euclideanDistance(point1, point2)`  \n",
    "   `distance = 0`  \n",
    "Passes in point1 = (0,0) and point2 = (0,1)\n",
    "1. `for x in range(len(point1)):`  \n",
    "len(point1) = 2, so range(len(point1)) = [0,1]\n",
    "1. [Loop: x = 0]  \n",
    "`distance += pow((point1[x] - point2[x]), 2)`  \n",
    "point1[0] = 0, point2[0] = 0, distance = 0  \n",
    "distance becomes 0 + pow(0 - 0, 2) = 0 + 0 = 0  \n",
    "continue loop  \n",
    "1. [Loop: x = 1]  \n",
    "`distance += pow((point1[x] - point2[x]), 2)`  \n",
    "point1[1] = 0, point2[1] = 1, distance = 0  \n",
    "distance becomes 0 + pow(0 - 1, 2) = 0 + 1 = 1  \n",
    "1. `return sqrt(distance)`  \n",
    "distance = 1  \n",
    "returns sqrt(1) = 1  \n",
    "**So, `output1 = 1` which matches our chart!**\n",
    "\n",
    "Try (b) and (c) on your own.\n",
    "\n",
    "b. **`euclideanDistance(input1=(3,4), input2=(0,0))`**  \n",
    "c. **`euclideanDistance(input1=(0,0,0), input2=(1,1,1))`**"
   ]
  },
  {
   "cell_type": "code",
   "execution_count": 10,
   "metadata": {
    "collapsed": false
   },
   "outputs": [
    {
     "name": "stdout",
     "output_type": "stream",
     "text": [
      "0.0\n",
      "5.0\n",
      "1.73205080757\n"
     ]
    }
   ],
   "source": [
    "print euclideanDistance((0,0),(0,0))\n",
    "print euclideanDistance((3,4),(0,0))\n",
    "print euclideanDistance((0,0,0),(1,1,1))"
   ]
  }
 ],
 "metadata": {
  "kernelspec": {
   "display_name": "Python 2",
   "language": "python",
   "name": "python2"
  },
  "language_info": {
   "codemirror_mode": {
    "name": "ipython",
    "version": 2
   },
   "file_extension": ".py",
   "mimetype": "text/x-python",
   "name": "python",
   "nbconvert_exporter": "python",
   "pygments_lexer": "ipython2",
   "version": "2.7.9"
  }
 },
 "nbformat": 4,
 "nbformat_minor": 0
}
