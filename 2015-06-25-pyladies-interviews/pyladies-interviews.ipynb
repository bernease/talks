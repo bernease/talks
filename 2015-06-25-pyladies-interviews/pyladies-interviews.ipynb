{
 "cells": [
  {
   "cell_type": "markdown",
   "metadata": {
    "collapsed": true
   },
   "source": [
    "# Interviews: Sometimes you can't just write sklearn.svm().SVC()\n",
    "**PyLadies Seattle**    \n",
    "**June 25, 2015**\n",
    "\n",
    "**Bernease Herman**  \n",
    "**Data Scientist, UW eScience Institute**"
   ]
  },
  {
   "cell_type": "markdown",
   "metadata": {},
   "source": [
    "## k-Nearest Neighbors\n",
    "\n",
    "The k-Nearest Neighbors algorithm (kNN) is a simple, easy-to-implement algorithm most commonly used for classification. Because it's easy to understand, kNN is a popular choice for whiteboard coding exercises.\n",
    "\n",
    "When used for classification, the algorithm takes in a set of training data, one or more objects we'd like to classify, and the number of neighbors to use in classification *k*. The output is the class membership of the object(s)."
   ]
  },
  {
   "cell_type": "code",
   "execution_count": null,
   "metadata": {
    "collapsed": false
   },
   "outputs": [],
   "source": [
    "# Run this code to display a short YouTube video on kNN\n",
    "from IPython.display import YouTubeVideo\n",
    "YouTubeVideo(\"mpmf1T6-8wM\")"
   ]
  },
  {
   "cell_type": "markdown",
   "metadata": {},
   "source": [
    "### Turning the tables: grilling your interviewer\n",
    "\n",
    "You've just heard the magic words: \"Implement a k-Nearest Neighbor algorithm on the whiteboard, please.\" Don't jump straight into coding just yet. There are loose ends to be tied.\n",
    "\n",
    "- *\"What is the format of the input?\"*\n",
    "- *\"What is the format of the output?*\n",
    "- *\"Is this kNN for classification? Regression?\"*\n",
    "- *\"Is this for a fixed or variable number of attributes?\"\n",
    "- *\"Is it okay to use X distance measure?\" or \"What measure of distance would you like me to use?\"*\n",
    "- *\"Must I write code to measure accuracy?\"*\n",
    "- *\"If the units of measure vary greatly, should I normalize the attributes?\"*\n",
    "\n",
    "You don't have to ask all these, but make sure you ask one or more clarifying questions. Software developers and data scientists always have constraints and limitations they must navigate. Asking upfront shows that you can work around these kinds of things.\n",
    "\n",
    "But feel free to announce assumptions you make as you code. The interviewer should correct them if they want to steer you in a different direction.\n",
    "\n",
    "### Inputs and outputs\n",
    "\n",
    "Inputs and outputs to your function or program are the only two **necessary** loose ends from the previous section. Often, knowing these two will tell you a lot about what the interviewer is looking for.\n",
    "\n",
    "For example, there are different valid input/output combinations for classification kNN. Examples:\n",
    "\n",
    "- **Input**: `kNNC(trainingData, testPoint, k)`  \n",
    "  **Output**: `<classification of testPoint>`\n",
    "- **Input**: `kNNC(trainingData, testData, k)`  \n",
    "  **Output**: `<list/dict of testPoints and classifications>`\n",
    "- Data points can take different forms: `((x,y,z), <classification>)`, `[(x,y,z), <classification>]`, data points could be a formal OOP class, etc.\n",
    "\n",
    "Our solution will assume a point-classification pair is of type tuple, where the element [0] is a tuple of features and element [1] is the value (or classification). It will take in a list of these pairs as training data, along with a list of these pairs as test data, and an integer *k*.\n",
    "\n",
    "Below is an example test and training dataset."
   ]
  },
  {
   "cell_type": "code",
   "execution_count": null,
   "metadata": {
    "collapsed": false
   },
   "outputs": [],
   "source": [
    "## Run this before all others\n",
    "\n",
    "training = []\n",
    "pair1 = ((1,2,3), \"x\")\n",
    "pair2 = ((4,5,6), \"o\")\n",
    "pair3 = ((7,8,9), \"x\")\n",
    "training.append(pair1)\n",
    "training.append(pair2)\n",
    "training.append(pair3)\n",
    "\n",
    "test = []\n",
    "point1 = (2,4,6)\n",
    "point2 = (3,6,9)\n",
    "test.append(point1)\n",
    "test.append(point2)"
   ]
  },
  {
   "cell_type": "markdown",
   "metadata": {},
   "source": [
    "### Test cases first\n",
    "\n",
    "I recommend coming up with a few test cases first. With your knowledge of kNN, you should be able to determine the correct result for trivial training and test datasets.\n",
    "\n",
    "Write them in a table on the whiteboard:\n",
    "\n",
    "|training|test|k|result|\n",
    "|---|---|---|---|\n",
    "| | | | |\n",
    "\n",
    "We will use this to manually debug our code when finished."
   ]
  },
  {
   "cell_type": "markdown",
   "metadata": {},
   "source": [
    "### And now we write\n",
    "\n",
    "Now we have enough information to start implementing the function, which we will call `kNNClassification`."
   ]
  },
  {
   "cell_type": "code",
   "execution_count": null,
   "metadata": {
    "collapsed": false
   },
   "outputs": [],
   "source": [
    "def kNNClassification(training, test, k):\n",
    "    \n",
    "    result = []\n",
    "    # Loop through all points in test dataset\n",
    "    for test_pt in test:\n",
    "        neighbors = findNeighbors(training, test_pt, k)\n",
    "        \n",
    "        # Calculate and assign the majority vote\n",
    "        values = {}\n",
    "        for neighbor_pair in neighbors:\n",
    "            if neighbor_pair[1] in values.keys():\n",
    "                values[neighbor_pair[1]] += 1\n",
    "            else:\n",
    "                values[neighbor_pair[1]] = 1\n",
    "        \n",
    "        # sort dictionary and find top class\n",
    "        sorted_values = sorted(values.items(), key=lambda (k,v): (v,k), reverse=True)\n",
    "        result.append((test_pt, sorted_values[0][0]))\n",
    "\n",
    "    return result\n",
    "\n",
    "## Quick check (won't work unless run findNeighbors and calcEuclideanDistance)\n",
    "print kNNClassification(training, [(1,1,1)], 2)\n",
    "print kNNClassification(training, [(0,0,0), (3,3,3)], 1)"
   ]
  },
  {
   "cell_type": "code",
   "execution_count": null,
   "metadata": {
    "collapsed": false
   },
   "outputs": [],
   "source": [
    "def findNeighbors(training, test_pt, k):\n",
    "    distances = []\n",
    "    for training_pair in training:\n",
    "        training_pt = training_pair[0]\n",
    "        distances.append((training_pair, calcEuclideanDistance(training_pt, test_pt)))\n",
    "    \n",
    "    sorted_distances = sorted(distances, key=lambda (tr, dist): (dist, tr))\n",
    "    #return sorted_distances[:k]\n",
    "    result = []\n",
    "    for i in range(k):\n",
    "        result.append(sorted_distances[i][0])\n",
    "    \n",
    "    return result\n",
    "    \n",
    "# Quick check (won't work without running calcEuclideanDistance)\n",
    "print findNeighbors(training, (1,1,1), 2)"
   ]
  },
  {
   "cell_type": "markdown",
   "metadata": {},
   "source": [
    "### Writing `calcEuclideanDistance` function\n",
    "\n",
    "Now let's write a function that calculates the distance between two points. A common method is the [Euclidean distance](https://en.wikipedia.org/wiki/Euclidean_distance), which finds the straight line distance between two points *p* and *q*.\n",
    "\n",
    "It is given by the following formula:\n",
    "$$ d(p,q) = \\sqrt{(p_{1}-q_{1})^{2} + (p_{2}-q_{2})^{2} + ... + (p_{n}-q_{n})^{2}}$$\n",
    "\n",
    "In non-equation speak, we will take `p[0] - q[0]` to the second power, then add it to `p[1] - q[1]` to the second power, and so on for each dimension. We then add these up, the take the square root of the whole thing.\n",
    "\n",
    "I've added a call to our function, `calcEuclideanDistance` to confirm that the code works. Without it, we'd have no idea if the code runs. Let's try it below:"
   ]
  },
  {
   "cell_type": "code",
   "execution_count": null,
   "metadata": {
    "collapsed": false
   },
   "outputs": [],
   "source": [
    "def calcEuclideanDistance(point1, point2):\n",
    "    distance = 0\n",
    "    for x in range(len(point1)):\n",
    "        distance += pow((point1[x] - point2[x]), 2)\n",
    "    return sqrt(distance)\n",
    "\n",
    "# Quick check\n",
    "print calcEuclideanDistance((0,0,0),(1,1,1))"
   ]
  },
  {
   "cell_type": "markdown",
   "metadata": {},
   "source": [
    "In IPython, we can run the cell and discover that this function gives a NameError. It tells us `sqrt` is not defined. This is because `sqrt` belongs to the `math` module, which we never imported.\n",
    "\n",
    "#### Hard to catch mistakes\n",
    "\n",
    "We wouldn't be so lucky if coding on a whiteboard, however. But that's okay! Most interviewers won't mark you down much for small syntax errors or tiny mistakes like this.\n",
    "\n",
    "Bugs like this are hard to find even when we manually debug the code later. If you *do* find a bug, bring it to the interviewer's attention and fix it. You want the improved code reflected in their notes.\n",
    "\n",
    "We've done that below:"
   ]
  },
  {
   "cell_type": "code",
   "execution_count": null,
   "metadata": {
    "collapsed": true
   },
   "outputs": [],
   "source": [
    "import math\n",
    "\n",
    "def calcEuclideanDistance(point1, point2):\n",
    "    distance = 0\n",
    "    for x in range(len(point1)):\n",
    "        distance += pow((point1[x] - point2[x]), 2)\n",
    "    return math.sqrt(distance)"
   ]
  },
  {
   "cell_type": "markdown",
   "metadata": {},
   "source": [
    "This new `calcEuclideanDistance` function feels about right. It should now take in two points and print the Euclidean distance between them.\n",
    "\n",
    "#### Debugging `calcEuclideanDistance` function\n",
    "\n",
    "We will need to debug this on the whiteboard. In an interview setting, you may want to save this step until the end to manage time. But we'll do it now.\n",
    "\n",
    "We want to write a small table of inputs and the expected outputs. We'll then debug the code by hand. Let's try just a few:\n",
    "\n",
    "||point1|point2|expected output|\n",
    "|---:|:---:|:---:|:---:|\n",
    "|a.|(0,0)|(0,1)|1|\n",
    "|b.|(3,4)|(0,0)|5|\n",
    "|c.|(0,0,0)|(1,1,1)|$$\\sqrt{3}$$|\n",
    "\n",
    "a. **`calcEuclideanDistance(input1=(0,0), input2=(0,0))`**\n",
    "1. `output1 = calcEuclideanDistance(point1, point2)`  \n",
    "   `distance = 0`  \n",
    "Passes in point1 = (0,0) and point2 = (0,1)\n",
    "1. `for x in range(len(point1)):`  \n",
    "len(point1) = 2, so range(len(point1)) = [0,1]\n",
    "1. [Loop: x = 0]  \n",
    "`distance += pow((point1[x] - point2[x]), 2)`  \n",
    "point1[0] = 0, point2[0] = 0, distance = 0  \n",
    "distance becomes 0 + pow(0 - 0, 2) = 0 + 0 = 0  \n",
    "continue loop  \n",
    "1. [Loop: x = 1]  \n",
    "`distance += pow((point1[x] - point2[x]), 2)`  \n",
    "point1[1] = 0, point2[1] = 1, distance = 0  \n",
    "distance becomes 0 + pow(0 - 1, 2) = 0 + 1 = 1  \n",
    "1. `return sqrt(distance)`  \n",
    "distance = 1  \n",
    "returns sqrt(1) = 1  \n",
    "**So, `output1 = 1` which matches our chart!**\n",
    "\n",
    "Try (b) and (c) on your own.\n",
    "\n",
    "b. **`calcEuclideanDistance(input1=(3,4), input2=(0,0))`**  \n",
    "c. **`calcEuclideanDistance(input1=(0,0,0), input2=(1,1,1))`**"
   ]
  },
  {
   "cell_type": "code",
   "execution_count": null,
   "metadata": {
    "collapsed": false
   },
   "outputs": [],
   "source": [
    "print calcEuclideanDistance((0,0),(0,0))\n",
    "print calcEuclideanDistance((3,4),(0,0))\n",
    "print calcEuclideanDistance((0,0,0),(1,1,1))"
   ]
  }
 ],
 "metadata": {
  "kernelspec": {
   "display_name": "Python 2",
   "language": "python",
   "name": "python2"
  },
  "language_info": {
   "codemirror_mode": {
    "name": "ipython",
    "version": 2
   },
   "file_extension": ".py",
   "mimetype": "text/x-python",
   "name": "python",
   "nbconvert_exporter": "python",
   "pygments_lexer": "ipython2",
   "version": "2.7.9"
  }
 },
 "nbformat": 4,
 "nbformat_minor": 0
}
